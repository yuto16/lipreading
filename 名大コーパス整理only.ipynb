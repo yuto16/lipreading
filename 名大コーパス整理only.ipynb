{
  "nbformat": 4,
  "nbformat_minor": 0,
  "metadata": {
    "colab": {
      "name": "mecab(名大コーパス精査only).ipynb",
      "version": "0.3.2",
      "provenance": [],
      "collapsed_sections": []
    },
    "kernelspec": {
      "name": "python3",
      "display_name": "Python 3"
    }
  },
  "cells": [
    {
      "cell_type": "markdown",
      "metadata": {
        "id": "WcPP1U_tJKDa",
        "colab_type": "text"
      },
      "source": [
        "# 名大会話コーパスのデータ整理\n",
        "\n",
        "#### 名大会話コーパスには100名以上の会話者が参加して、総計100時間もの会話が文字化されている。\n",
        "#### 今回はこのデータを整理し、その一部を自動読唇の学習用データとする。"
      ]
    },
    {
      "cell_type": "markdown",
      "metadata": {
        "id": "2hV1S9pijNjC",
        "colab_type": "text"
      },
      "source": [
        "## 学習用コーパス作成"
      ]
    },
    {
      "cell_type": "markdown",
      "metadata": {
        "id": "s-F5Yuc4IT3i",
        "colab_type": "text"
      },
      "source": [
        "### 名大会話コーパス\n",
        "\n",
        "https://mmsrv.ninjal.ac.jp/nucc/"
      ]
    },
    {
      "cell_type": "markdown",
      "metadata": {
        "id": "BBl5yIw3MAtM",
        "colab_type": "text"
      },
      "source": [
        "### 文字化ルール(一部)\n",
        "https://mmsrv.ninjal.ac.jp/nucc/nucc_abst.html\n",
        "\n",
        "・聞き取れる声はすべて文字化し、聞き取れない部分には＊＊＊を入れる。<br>\n",
        "・相づちと思われる発話は（　　　）の中に入れる。<br>\n",
        "・上昇調イントネーションは？で示す。<br>\n",
        "・笑いは＜笑い＞とする。相手の笑いは（＜笑い＞）とする。<br>\n",
        "・一定の長さ以上の沈黙は＜間＞で示す。<br>\n",
        "・漢字の発音が問題になりそうな時は【　】 の中に仮名を入れる。<br>\n",
        "・アルファベット、数字、記号はすべて全角とする。<br>\n",
        "\n",
        "### 今回の編集ルール\n",
        "・（）を消す<br>\n",
        "・＜＞を消す<br>\n",
        "・【】を消す<br>\n",
        "・speakerが不明の場合「X:」は「U000」とした"
      ]
    },
    {
      "cell_type": "markdown",
      "metadata": {
        "id": "S6mSMaRNdLrB",
        "colab_type": "text"
      },
      "source": [
        "## 準備"
      ]
    },
    {
      "cell_type": "code",
      "metadata": {
        "id": "SkQJwXSgbyRD",
        "colab_type": "code",
        "colab": {}
      },
      "source": [
        "import numpy as np\n",
        "import pandas as pd\n",
        "import os\n",
        "import re\n",
        "import collections"
      ],
      "execution_count": 0,
      "outputs": []
    },
    {
      "cell_type": "code",
      "metadata": {
        "id": "VcbhaZqrnJ8A",
        "colab_type": "code",
        "outputId": "aa83361b-fef8-46c9-d793-fc70e01703ff",
        "colab": {
          "base_uri": "https://localhost:8080/",
          "height": 34
        }
      },
      "source": [
        "%cd /content"
      ],
      "execution_count": 3,
      "outputs": [
        {
          "output_type": "stream",
          "text": [
            "/content\n"
          ],
          "name": "stdout"
        }
      ]
    },
    {
      "cell_type": "code",
      "metadata": {
        "id": "FvlwAbMWjMEO",
        "colab_type": "code",
        "colab": {
          "base_uri": "https://localhost:8080/",
          "height": 1000
        },
        "outputId": "e91d77cf-6770-4536-f083-a58d4f02493d"
      },
      "source": [
        "# https://mmsrv.ninjal.ac.jp/nucc/ 名古屋会話コーパス\n",
        "!wget https://mmsrv.ninjal.ac.jp/nucc/nucc.zip\n",
        "!unzip nucc.zip"
      ],
      "execution_count": 4,
      "outputs": [
        {
          "output_type": "stream",
          "text": [
            "--2019-07-08 06:05:29--  https://mmsrv.ninjal.ac.jp/nucc/nucc.zip\n",
            "Resolving mmsrv.ninjal.ac.jp (mmsrv.ninjal.ac.jp)... 202.245.100.91\n",
            "Connecting to mmsrv.ninjal.ac.jp (mmsrv.ninjal.ac.jp)|202.245.100.91|:443... connected.\n",
            "HTTP request sent, awaiting response... 200 OK\n",
            "Length: 2187379 (2.1M) [application/zip]\n",
            "Saving to: ‘nucc.zip’\n",
            "\n",
            "nucc.zip            100%[===================>]   2.09M   649KB/s    in 3.3s    \n",
            "\n",
            "2019-07-08 06:05:33 (649 KB/s) - ‘nucc.zip’ saved [2187379/2187379]\n",
            "\n",
            "Archive:  nucc.zip\n",
            "   creating: nucc/\n",
            "  inflating: nucc/data001.txt        \n",
            "  inflating: nucc/data002.txt        \n",
            "  inflating: nucc/data003.txt        \n",
            "  inflating: nucc/data004.txt        \n",
            "  inflating: nucc/data005.txt        \n",
            "  inflating: nucc/data006.txt        \n",
            "  inflating: nucc/data007.txt        \n",
            "  inflating: nucc/data008.txt        \n",
            "  inflating: nucc/data009.txt        \n",
            "  inflating: nucc/data010.txt        \n",
            "  inflating: nucc/data011.txt        \n",
            "  inflating: nucc/data012.txt        \n",
            "  inflating: nucc/data013.txt        \n",
            "  inflating: nucc/data014.txt        \n",
            "  inflating: nucc/data015.txt        \n",
            "  inflating: nucc/data016.txt        \n",
            "  inflating: nucc/data017.txt        \n",
            "  inflating: nucc/data018.txt        \n",
            "  inflating: nucc/data019.txt        \n",
            "  inflating: nucc/data020.txt        \n",
            "  inflating: nucc/data021.txt        \n",
            "  inflating: nucc/data022.txt        \n",
            "  inflating: nucc/data023.txt        \n",
            "  inflating: nucc/data024.txt        \n",
            "  inflating: nucc/data025.txt        \n",
            "  inflating: nucc/data026.txt        \n",
            "  inflating: nucc/data027.txt        \n",
            "  inflating: nucc/data028.txt        \n",
            "  inflating: nucc/data029.txt        \n",
            "  inflating: nucc/data030.txt        \n",
            "  inflating: nucc/data031.txt        \n",
            "  inflating: nucc/data032.txt        \n",
            "  inflating: nucc/data033.txt        \n",
            "  inflating: nucc/data034.txt        \n",
            "  inflating: nucc/data035.txt        \n",
            "  inflating: nucc/data036.txt        \n",
            "  inflating: nucc/data037.txt        \n",
            "  inflating: nucc/data038.txt        \n",
            "  inflating: nucc/data039.txt        \n",
            "  inflating: nucc/data040.txt        \n",
            "  inflating: nucc/data041.txt        \n",
            "  inflating: nucc/data042.txt        \n",
            "  inflating: nucc/data043.txt        \n",
            "  inflating: nucc/data044.txt        \n",
            "  inflating: nucc/data045.txt        \n",
            "  inflating: nucc/data046.txt        \n",
            "  inflating: nucc/data047.txt        \n",
            "  inflating: nucc/data048.txt        \n",
            "  inflating: nucc/data049.txt        \n",
            "  inflating: nucc/data050.txt        \n",
            "  inflating: nucc/data051.txt        \n",
            "  inflating: nucc/data052.txt        \n",
            "  inflating: nucc/data053.txt        \n",
            "  inflating: nucc/data054.txt        \n",
            "  inflating: nucc/data055.txt        \n",
            "  inflating: nucc/data056.txt        \n",
            "  inflating: nucc/data057.txt        \n",
            "  inflating: nucc/data058.txt        \n",
            "  inflating: nucc/data059.txt        \n",
            "  inflating: nucc/data060.txt        \n",
            "  inflating: nucc/data061.txt        \n",
            "  inflating: nucc/data062.txt        \n",
            "  inflating: nucc/data063.txt        \n",
            "  inflating: nucc/data064.txt        \n",
            "  inflating: nucc/data065.txt        \n",
            "  inflating: nucc/data066.txt        \n",
            "  inflating: nucc/data067.txt        \n",
            "  inflating: nucc/data068.txt        \n",
            "  inflating: nucc/data069.txt        \n",
            "  inflating: nucc/data070.txt        \n",
            "  inflating: nucc/data071.txt        \n",
            "  inflating: nucc/data072.txt        \n",
            "  inflating: nucc/data073.txt        \n",
            "  inflating: nucc/data074.txt        \n",
            "  inflating: nucc/data075.txt        \n",
            "  inflating: nucc/data076.txt        \n",
            "  inflating: nucc/data077.txt        \n",
            "  inflating: nucc/data078.txt        \n",
            "  inflating: nucc/data079.txt        \n",
            "  inflating: nucc/data080.txt        \n",
            "  inflating: nucc/data081.txt        \n",
            "  inflating: nucc/data082.txt        \n",
            "  inflating: nucc/data083.txt        \n",
            "  inflating: nucc/data084.txt        \n",
            "  inflating: nucc/data085.txt        \n",
            "  inflating: nucc/data086.txt        \n",
            "  inflating: nucc/data087.txt        \n",
            "  inflating: nucc/data088.txt        \n",
            "  inflating: nucc/data089.txt        \n",
            "  inflating: nucc/data090.txt        \n",
            "  inflating: nucc/data091.txt        \n",
            "  inflating: nucc/data092.txt        \n",
            "  inflating: nucc/data093.txt        \n",
            "  inflating: nucc/data094.txt        \n",
            "  inflating: nucc/data095.txt        \n",
            "  inflating: nucc/data096.txt        \n",
            "  inflating: nucc/data097.txt        \n",
            "  inflating: nucc/data098.txt        \n",
            "  inflating: nucc/data099.txt        \n",
            "  inflating: nucc/data100.txt        \n",
            "  inflating: nucc/data101.txt        \n",
            "  inflating: nucc/data102.txt        \n",
            "  inflating: nucc/data103.txt        \n",
            "  inflating: nucc/data104.txt        \n",
            "  inflating: nucc/data105.txt        \n",
            "  inflating: nucc/data106.txt        \n",
            "  inflating: nucc/data107.txt        \n",
            "  inflating: nucc/data108.txt        \n",
            "  inflating: nucc/data109.txt        \n",
            "  inflating: nucc/data110.txt        \n",
            "  inflating: nucc/data111.txt        \n",
            "  inflating: nucc/data112.txt        \n",
            "  inflating: nucc/data113.txt        \n",
            "  inflating: nucc/data114.txt        \n",
            "  inflating: nucc/data115.txt        \n",
            "  inflating: nucc/data116.txt        \n",
            "  inflating: nucc/data117.txt        \n",
            "  inflating: nucc/data118.txt        \n",
            "  inflating: nucc/data119.txt        \n",
            "  inflating: nucc/data120.txt        \n",
            "  inflating: nucc/data121.txt        \n",
            "  inflating: nucc/data122.txt        \n",
            "  inflating: nucc/data123.txt        \n",
            "  inflating: nucc/data124.txt        \n",
            "  inflating: nucc/data125.txt        \n",
            "  inflating: nucc/data126.txt        \n",
            "  inflating: nucc/data127.txt        \n",
            "  inflating: nucc/data128.txt        \n",
            "  inflating: nucc/data129.txt        \n"
          ],
          "name": "stdout"
        }
      ]
    },
    {
      "cell_type": "code",
      "metadata": {
        "id": "rPr4hHs1AQ5Q",
        "colab_type": "code",
        "colab": {}
      },
      "source": [
        "def clean_talk(talk):\n",
        "    tmp = talk\n",
        "    \n",
        "    #括弧を中身ごと削除\n",
        "    tmp = re.sub('（.+?）', '', tmp)\n",
        "    tmp = re.sub('＜.+?＞', '', tmp)\n",
        "    tmp = re.sub('【.+?】', '', tmp)\n",
        "    \n",
        "    #改行などを削除\n",
        "    tmp = re.sub('\\n', '', tmp)\n",
        "    tmp = re.sub('\\u30c3', '', tmp)\n",
        "    tmp = re.sub('\\u3000', '', tmp)\n",
        "    tmp = re.sub('\\uff1a', '', tmp)\n",
        "    \n",
        "    #一部読みを追加\n",
        "    tmp = re.sub('Ｑ＆Ａ', 'キューアンドエー', tmp)\n",
        "    tmp = re.sub('&', 'アンド', tmp)\n",
        "    tmp = re.sub('＆', 'アンド', tmp)\n",
        "    tmp = re.sub('○', 'まる', tmp)\n",
        "    tmp = re.sub('☓', 'ばつ', tmp)\n",
        "    \n",
        "    return tmp"
      ],
      "execution_count": 0,
      "outputs": []
    },
    {
      "cell_type": "code",
      "metadata": {
        "id": "63Z2oTizAQ2D",
        "colab_type": "code",
        "colab": {}
      },
      "source": [
        "N = 129\n",
        "\n",
        "all_data = pd.DataFrame()\n",
        "\n",
        "for i in range(1, 1+N):\n",
        "    filepath = '/content/nucc/data{0:03}.txt'.format(i)\n",
        "\n",
        "\n",
        "    talk_list = []\n",
        "    speaker_list = []\n",
        "\n",
        "    with open(filepath, encoding='utf-8') as f:\n",
        "        speaker = \"\"\n",
        "        for s_line in f:\n",
        "            if \"＠ＥＮＤ\" in s_line:\n",
        "                break\n",
        "            elif re.match(r'^＠', s_line):\n",
        "                pass\n",
        "            elif re.match(r'^％ｃｏｍ', s_line):\n",
        "                pass\n",
        "            elif re.match(r'^Ｘ：', s_line):\n",
        "                speaker = \"U000\"\n",
        "                talk = s_line[2:]\n",
        "                talk = clean_talk(talk)\n",
        "                speaker_list.append(speaker)\n",
        "                talk_list.append(talk)\n",
        "                \n",
        "            elif re.match(r'^[A-Z]\\d+：', s_line):\n",
        "                speaker = s_line[:4]\n",
        "                talk = s_line[5:]\n",
        "                talk = clean_talk(talk)\n",
        "                speaker_list.append(speaker)\n",
        "                talk_list.append(talk)\n",
        "            elif speaker!=\"\": #まだspeakerが決まってない冒頭のコメントは削除\n",
        "                talk = s_line\n",
        "                talk = clean_talk(talk)\n",
        "                speaker_list.append(speaker)\n",
        "                talk_list.append(talk)\n",
        "            else:\n",
        "                pass\n",
        "\n",
        "    data = pd.DataFrame({\"talk\" : talk_list,\n",
        "                        \"speaker\" : speaker_list})\n",
        "\n",
        "    data[\"sex\"] = [s[0] for s in data[\"speaker\"]]\n",
        "    data[\"num\"] = [s[1:] for s in data[\"speaker\"]]\n",
        "    data[\"unknown\"] = [1 if \"＊\" in s else 0 for s in data[\"talk\"]]\n",
        "    \n",
        "    all_data = pd.concat([all_data, data])"
      ],
      "execution_count": 0,
      "outputs": []
    },
    {
      "cell_type": "code",
      "metadata": {
        "id": "3T0-FdkQLamT",
        "colab_type": "code",
        "outputId": "425019eb-6265-4f94-bf50-d2a8291a3f75",
        "colab": {
          "base_uri": "https://localhost:8080/",
          "height": 34
        }
      },
      "source": [
        "all_data.shape"
      ],
      "execution_count": 7,
      "outputs": [
        {
          "output_type": "execute_result",
          "data": {
            "text/plain": [
              "(133424, 5)"
            ]
          },
          "metadata": {
            "tags": []
          },
          "execution_count": 7
        }
      ]
    },
    {
      "cell_type": "markdown",
      "metadata": {
        "id": "PCQB93ymKT0-",
        "colab_type": "text"
      },
      "source": [
        "## データフレーム(all_data)の説明\n",
        "\n",
        "・talk　　　　会話の内容 <br>\n",
        "・speaker　　名大コーパス中での会話者コード<br>\n",
        "・sex　　　　会話者の性別(F：女性、M：男性)<br>\n",
        "・num　　　　会話者のコード<br>\n",
        "・unknown　　talk中に伏字「＊＊＊」(不明or個人情報などによる)が含まれているかどうか<br>"
      ]
    },
    {
      "cell_type": "code",
      "metadata": {
        "id": "n6uus7eOLaH_",
        "colab_type": "code",
        "outputId": "6e888a16-68a7-4755-d478-39d6097e438a",
        "colab": {
          "base_uri": "https://localhost:8080/",
          "height": 204
        }
      },
      "source": [
        "all_data.head()"
      ],
      "execution_count": 8,
      "outputs": [
        {
          "output_type": "execute_result",
          "data": {
            "text/html": [
              "<div>\n",
              "<style scoped>\n",
              "    .dataframe tbody tr th:only-of-type {\n",
              "        vertical-align: middle;\n",
              "    }\n",
              "\n",
              "    .dataframe tbody tr th {\n",
              "        vertical-align: top;\n",
              "    }\n",
              "\n",
              "    .dataframe thead th {\n",
              "        text-align: right;\n",
              "    }\n",
              "</style>\n",
              "<table border=\"1\" class=\"dataframe\">\n",
              "  <thead>\n",
              "    <tr style=\"text-align: right;\">\n",
              "      <th></th>\n",
              "      <th>talk</th>\n",
              "      <th>speaker</th>\n",
              "      <th>sex</th>\n",
              "      <th>num</th>\n",
              "      <th>unknown</th>\n",
              "    </tr>\n",
              "  </thead>\n",
              "  <tbody>\n",
              "    <tr>\n",
              "      <th>0</th>\n",
              "      <td>＊＊＊の町というのはちいちゃくって、城壁がこう町全体をぐるっと回ってて、それが城壁の上を歩い...</td>\n",
              "      <td>F107</td>\n",
              "      <td>F</td>\n",
              "      <td>107</td>\n",
              "      <td>1</td>\n",
              "    </tr>\n",
              "    <tr>\n",
              "      <th>1</th>\n",
              "      <td>１時間かからないぐらいだね。</td>\n",
              "      <td>F023</td>\n",
              "      <td>F</td>\n",
              "      <td>023</td>\n",
              "      <td>0</td>\n",
              "    </tr>\n",
              "    <tr>\n",
              "      <th>2</th>\n",
              "      <td>４、５０分で。</td>\n",
              "      <td>F023</td>\n",
              "      <td>F</td>\n",
              "      <td>023</td>\n",
              "      <td>0</td>\n",
              "    </tr>\n",
              "    <tr>\n",
              "      <th>3</th>\n",
              "      <td>そうそう。</td>\n",
              "      <td>F107</td>\n",
              "      <td>F</td>\n",
              "      <td>107</td>\n",
              "      <td>0</td>\n",
              "    </tr>\n",
              "    <tr>\n",
              "      <th>4</th>\n",
              "      <td>ほいでさあ、ずっと歩いていたんだけど、そうすと上から、なんか町の中が見れるじゃん。</td>\n",
              "      <td>F107</td>\n",
              "      <td>F</td>\n",
              "      <td>107</td>\n",
              "      <td>0</td>\n",
              "    </tr>\n",
              "  </tbody>\n",
              "</table>\n",
              "</div>"
            ],
            "text/plain": [
              "                                                talk speaker sex  num  unknown\n",
              "0  ＊＊＊の町というのはちいちゃくって、城壁がこう町全体をぐるっと回ってて、それが城壁の上を歩い...    F107   F  107        1\n",
              "1                                     １時間かからないぐらいだね。    F023   F  023        0\n",
              "2                                            ４、５０分で。    F023   F  023        0\n",
              "3                                              そうそう。    F107   F  107        0\n",
              "4          ほいでさあ、ずっと歩いていたんだけど、そうすと上から、なんか町の中が見れるじゃん。    F107   F  107        0"
            ]
          },
          "metadata": {
            "tags": []
          },
          "execution_count": 8
        }
      ]
    },
    {
      "cell_type": "markdown",
      "metadata": {
        "id": "g_Wy6oNDLXpt",
        "colab_type": "text"
      },
      "source": [
        "## 会話者別に会話データが何件あるかの集計\n",
        " (F004さんの会話データが7805件と最多であることがわかる)"
      ]
    },
    {
      "cell_type": "code",
      "metadata": {
        "id": "0dn_r2VuAQwf",
        "colab_type": "code",
        "outputId": "47068fac-c4e8-45bf-f1b4-05d4049dc6fc",
        "colab": {
          "base_uri": "https://localhost:8080/",
          "height": 187
        }
      },
      "source": [
        "c = collections.Counter(all_data[\"speaker\"])\n",
        "c.most_common(10)"
      ],
      "execution_count": 9,
      "outputs": [
        {
          "output_type": "execute_result",
          "data": {
            "text/plain": [
              "[('F004', 7805),\n",
              " ('F098', 6172),\n",
              " ('F128', 4417),\n",
              " ('F093', 3284),\n",
              " ('F057', 3108),\n",
              " ('F050', 2782),\n",
              " ('F001', 2574),\n",
              " ('M034', 2535),\n",
              " ('F130', 2251),\n",
              " ('F032', 2219)]"
            ]
          },
          "metadata": {
            "tags": []
          },
          "execution_count": 9
        }
      ]
    },
    {
      "cell_type": "code",
      "metadata": {
        "id": "kGLZpKTUPP1t",
        "colab_type": "code",
        "outputId": "4e29cf69-1fe8-4a87-e857-1e7e91e591e7",
        "colab": {
          "base_uri": "https://localhost:8080/",
          "height": 68
        }
      },
      "source": [
        "#話者を絞る\n",
        "tmp_data = all_data[all_data[\"speaker\"]==\"M034\"] #東京出身だったため\n",
        "print(tmp_data.shape)\n",
        "\n",
        "#「＊＊＊」が入った文章は除外\n",
        "tmp_data = tmp_data[tmp_data[\"unknown\"]==0]\n",
        "print(tmp_data.shape)\n",
        "\n",
        "#空白除外\n",
        "tmp_data = tmp_data[tmp_data[\"talk\"]!=\"\"]\n",
        "print(tmp_data.shape)"
      ],
      "execution_count": 10,
      "outputs": [
        {
          "output_type": "stream",
          "text": [
            "(2535, 5)\n",
            "(2481, 5)\n",
            "(2390, 5)\n"
          ],
          "name": "stdout"
        }
      ]
    },
    {
      "cell_type": "code",
      "metadata": {
        "id": "mxCK8ow8Q2Sl",
        "colab_type": "code",
        "outputId": "1a0ba0ea-26cd-4fa4-a324-42da375fca7c",
        "colab": {
          "base_uri": "https://localhost:8080/",
          "height": 359
        }
      },
      "source": [
        "tmp_data.head(10)"
      ],
      "execution_count": 11,
      "outputs": [
        {
          "output_type": "execute_result",
          "data": {
            "text/html": [
              "<div>\n",
              "<style scoped>\n",
              "    .dataframe tbody tr th:only-of-type {\n",
              "        vertical-align: middle;\n",
              "    }\n",
              "\n",
              "    .dataframe tbody tr th {\n",
              "        vertical-align: top;\n",
              "    }\n",
              "\n",
              "    .dataframe thead th {\n",
              "        text-align: right;\n",
              "    }\n",
              "</style>\n",
              "<table border=\"1\" class=\"dataframe\">\n",
              "  <thead>\n",
              "    <tr style=\"text-align: right;\">\n",
              "      <th></th>\n",
              "      <th>talk</th>\n",
              "      <th>speaker</th>\n",
              "      <th>sex</th>\n",
              "      <th>num</th>\n",
              "      <th>unknown</th>\n",
              "    </tr>\n",
              "  </thead>\n",
              "  <tbody>\n",
              "    <tr>\n",
              "      <th>1</th>\n",
              "      <td>結構すごい意訳があるから。</td>\n",
              "      <td>M034</td>\n",
              "      <td>M</td>\n",
              "      <td>034</td>\n",
              "      <td>0</td>\n",
              "    </tr>\n",
              "    <tr>\n",
              "      <th>3</th>\n",
              "      <td>変わってるよ、これ。</td>\n",
              "      <td>M034</td>\n",
              "      <td>M</td>\n",
              "      <td>034</td>\n",
              "      <td>0</td>\n",
              "    </tr>\n",
              "    <tr>\n",
              "      <th>5</th>\n",
              "      <td>変わってる。</td>\n",
              "      <td>M034</td>\n",
              "      <td>M</td>\n",
              "      <td>034</td>\n",
              "      <td>0</td>\n",
              "    </tr>\n",
              "    <tr>\n",
              "      <th>8</th>\n",
              "      <td>うん、味が。</td>\n",
              "      <td>M034</td>\n",
              "      <td>M</td>\n",
              "      <td>034</td>\n",
              "      <td>0</td>\n",
              "    </tr>\n",
              "    <tr>\n",
              "      <th>16</th>\n",
              "      <td>うん。</td>\n",
              "      <td>M034</td>\n",
              "      <td>M</td>\n",
              "      <td>034</td>\n",
              "      <td>0</td>\n",
              "    </tr>\n",
              "    <tr>\n",
              "      <th>17</th>\n",
              "      <td>アイスティーにするとよくわからん。</td>\n",
              "      <td>M034</td>\n",
              "      <td>M</td>\n",
              "      <td>034</td>\n",
              "      <td>0</td>\n",
              "    </tr>\n",
              "    <tr>\n",
              "      <th>19</th>\n",
              "      <td>同じなんじゃないの？</td>\n",
              "      <td>M034</td>\n",
              "      <td>M</td>\n",
              "      <td>034</td>\n",
              "      <td>0</td>\n",
              "    </tr>\n",
              "    <tr>\n",
              "      <th>27</th>\n",
              "      <td>シロプ入れるのかなあ。</td>\n",
              "      <td>M034</td>\n",
              "      <td>M</td>\n",
              "      <td>034</td>\n",
              "      <td>0</td>\n",
              "    </tr>\n",
              "    <tr>\n",
              "      <th>35</th>\n",
              "      <td>なるほど。</td>\n",
              "      <td>M034</td>\n",
              "      <td>M</td>\n",
              "      <td>034</td>\n",
              "      <td>0</td>\n",
              "    </tr>\n",
              "    <tr>\n",
              "      <th>36</th>\n",
              "      <td>わかりやすい。</td>\n",
              "      <td>M034</td>\n",
              "      <td>M</td>\n",
              "      <td>034</td>\n",
              "      <td>0</td>\n",
              "    </tr>\n",
              "  </tbody>\n",
              "</table>\n",
              "</div>"
            ],
            "text/plain": [
              "                 talk speaker sex  num  unknown\n",
              "1       結構すごい意訳があるから。    M034   M  034        0\n",
              "3          変わってるよ、これ。    M034   M  034        0\n",
              "5              変わってる。    M034   M  034        0\n",
              "8              うん、味が。    M034   M  034        0\n",
              "16                うん。    M034   M  034        0\n",
              "17  アイスティーにするとよくわからん。    M034   M  034        0\n",
              "19         同じなんじゃないの？    M034   M  034        0\n",
              "27        シロプ入れるのかなあ。    M034   M  034        0\n",
              "35              なるほど。    M034   M  034        0\n",
              "36            わかりやすい。    M034   M  034        0"
            ]
          },
          "metadata": {
            "tags": []
          },
          "execution_count": 11
        }
      ]
    },
    {
      "cell_type": "code",
      "metadata": {
        "id": "s60Ne_1oPP89",
        "colab_type": "code",
        "colab": {}
      },
      "source": [
        "sentences = []\n",
        "\n",
        "for talk in tmp_data[\"talk\"]:\n",
        "    tmp = talk\n",
        "    if tmp[-1]!=\"。\":\n",
        "        tmp = tmp + \"。\" #「。」で終わってなければ「。」を追加\n",
        "    tmp = re.sub(\"、\", \"。\", tmp)\n",
        "    sentence = tmp.split(\"。\")[:-1]\n",
        "    sentences.extend(sentence)"
      ],
      "execution_count": 0,
      "outputs": []
    },
    {
      "cell_type": "code",
      "metadata": {
        "id": "E__d_Z8CPQDa",
        "colab_type": "code",
        "outputId": "cd30ec36-79bc-4885-99ee-47f3d1e715dd",
        "colab": {
          "base_uri": "https://localhost:8080/",
          "height": 34
        }
      },
      "source": [
        "len(sentences)"
      ],
      "execution_count": 13,
      "outputs": [
        {
          "output_type": "execute_result",
          "data": {
            "text/plain": [
              "4832"
            ]
          },
          "metadata": {
            "tags": []
          },
          "execution_count": 13
        }
      ]
    },
    {
      "cell_type": "code",
      "metadata": {
        "id": "iVleW3xUPQBv",
        "colab_type": "code",
        "outputId": "29a40c2d-650a-4c0a-e904-6ef73ddeec11",
        "colab": {
          "base_uri": "https://localhost:8080/",
          "height": 187
        }
      },
      "source": [
        "sentences[:10]"
      ],
      "execution_count": 14,
      "outputs": [
        {
          "output_type": "execute_result",
          "data": {
            "text/plain": [
              "['結構すごい意訳があるから',\n",
              " '変わってるよ',\n",
              " 'これ',\n",
              " '変わってる',\n",
              " 'うん',\n",
              " '味が',\n",
              " 'うん',\n",
              " 'アイスティーにするとよくわからん',\n",
              " '同じなんじゃないの？',\n",
              " 'シロプ入れるのかなあ']"
            ]
          },
          "metadata": {
            "tags": []
          },
          "execution_count": 14
        }
      ]
    },
    {
      "cell_type": "code",
      "metadata": {
        "id": "Eu53H59-Tjfr",
        "colab_type": "code",
        "colab": {}
      },
      "source": [
        ""
      ],
      "execution_count": 0,
      "outputs": []
    }
  ]
}